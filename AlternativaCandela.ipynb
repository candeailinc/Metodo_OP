{
 "cells": [
  {
   "cell_type": "code",
   "execution_count": 1,
   "id": "ed6b2d25-a11f-45c2-8208-98153f44cf0c",
   "metadata": {},
   "outputs": [],
   "source": [
    "def enesimoprimo(n):\n",
    "  \"\"\"\n",
    "  Calcular el enésimo número primo\n",
    "\n",
    "  Args:\n",
    "    n: El número primo que busco\n",
    "\n",
    "  Returns:\n",
    "    El enésimo número primo\n",
    "  \"\"\"\n",
    "  primo = 2\n",
    "  contador = 1\n",
    "\n",
    "  while contador < n:\n",
    "    primo += 1\n",
    "    numprimo = True\n",
    "\n",
    "    for i in range(2, primo // 2 + 1):\n",
    "      if primo % i == 0:\n",
    "        numprimo = False\n",
    "        break\n",
    "    if numprimo:\n",
    "      contador += 1\n",
    "\n",
    "  return primo\n"
   ]
  },
  {
   "cell_type": "code",
   "execution_count": null,
   "id": "d887f535-a149-4978-a1e7-5c2479fb34be",
   "metadata": {},
   "outputs": [],
   "source": [
    "print(enesimoprimo(1000000))"
   ]
  },
  {
   "cell_type": "code",
   "execution_count": 13,
   "id": "dba131ef-e464-4889-be49-dac152da959b",
   "metadata": {},
   "outputs": [
    {
     "name": "stdout",
     "output_type": "stream",
     "text": [
      "7919\n"
     ]
    }
   ],
   "source": [
    "\n",
    "print(enesimoprimo(1000))"
   ]
  },
  {
   "cell_type": "code",
   "execution_count": 14,
   "id": "2ad012c3-3fab-4c40-ae82-73ca12d5c997",
   "metadata": {},
   "outputs": [
    {
     "name": "stdout",
     "output_type": "stream",
     "text": [
      "Lau\n",
      "104729\n"
     ]
    }
   ],
   "source": [
    "print(enesimoprimo(10000))"
   ]
  }
 ],
 "metadata": {
  "kernelspec": {
   "display_name": "Python 3",
   "language": "python",
   "name": "python3"
  },
  "language_info": {
   "codemirror_mode": {
    "name": "ipython",
    "version": 3
   },
   "file_extension": ".py",
   "mimetype": "text/x-python",
   "name": "python",
   "nbconvert_exporter": "python",
   "pygments_lexer": "ipython3",
   "version": "3.12.6"
  }
 },
 "nbformat": 4,
 "nbformat_minor": 5
}
