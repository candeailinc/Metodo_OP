{
 "cells": [
  {
   "cell_type": "code",
   "execution_count": 1,
   "id": "eec0b68b-ac5b-4c7e-89a7-0a6045ca8bb9",
   "metadata": {},
   "outputs": [],
   "source": [
    "#Importamos la librería \"math\" ya que vamos a usar la raíz cuadrada\n",
    "\n",
    "import math\n",
    "\n",
    "#Le damos un nombre a la función, (n) va a ser el parametro\n",
    "\n",
    "def enesimoprimo(n):\n",
    "\n",
    "#Hacemos un docstring que explique que es lo que buscamos con esta función. En nuestro caso encontrar el (n)ésimo número primo.\n",
    "    \n",
    "    \"\"\"\n",
    "    Calcular el enésimo número primo\n",
    "\n",
    "    Args:\n",
    "        n: El número primo que estamos buscando\n",
    "\n",
    "    Returns:\n",
    "        El enésimo número primo\n",
    "    \"\"\"\n",
    "\n",
    "#Iniciamos la variable \"primo\" en 2 ya que es el primer número primo que queremos que tenga en cuenta nuestra función.\n",
    "#Iniciamos el contador en 1 para poder saber cuantos números primos vamos enconttando\n",
    "    \n",
    "    primo = 2\n",
    "    contador = 1\n",
    "\n",
    "#Iniciamos un bucle con la función \"while\", el cual se ejecuta mientras el contador sea menor (<) que (n).\n",
    "#Hacemos que en cada iteración aumente en 1 el valor de la variable \"primo\" con el signo (+-). Asumimos que es primo hasta que se demuestre lo contrario.\n",
    "    \n",
    "    while contador < n:\n",
    "        primo += 1\n",
    "        numprimo = True\n"
   ]
  }
 ],
 "metadata": {
  "kernelspec": {
   "display_name": "Python 3 (ipykernel)",
   "language": "python",
   "name": "python3"
  },
  "language_info": {
   "codemirror_mode": {
    "name": "ipython",
    "version": 3
   },
   "file_extension": ".py",
   "mimetype": "text/x-python",
   "name": "python",
   "nbconvert_exporter": "python",
   "pygments_lexer": "ipython3",
   "version": "3.12.4"
  }
 },
 "nbformat": 4,
 "nbformat_minor": 5
}
