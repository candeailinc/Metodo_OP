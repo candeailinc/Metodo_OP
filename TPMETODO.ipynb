{
 "cells": [
  {
   "cell_type": "code",
   "execution_count": 1,
   "id": "eec0b68b-ac5b-4c7e-89a7-0a6045ca8bb9",
   "metadata": {},
   "outputs": [],
   "source": [
    "#Importamos la librería \"math\" ya que vamos a usar la raíz cuadrada\n",
    "\n",
    "import math\n",
    "\n",
    "#Le damos un nombre a la función, (n) va a ser el parametro\n",
    "\n",
    "def enesimoprimo(n):\n",
    "\n",
    "# Realizamos una validación por si el numero que se ingresa es igual a 0 ya que devolvería 2 debido a que es el primer numero primo.   \n",
    "    if n == 0:  #\n",
    "# Si se ingresa un numero negativo también devuelve el 2\n",
    "      return \"No existe el primo N°0. Ingrese otro número.\"\n",
    "    \n",
    "#Hacemos un docstring que explique que es lo que buscamos con esta función. En nuestro caso encontrar el (n)ésimo número primo.\n",
    "    \n",
    "    \"\"\"\n",
    "    Calcular el enésimo número primo\n",
    "\n",
    "    Args:\n",
    "        n: El número primo que estamos buscando\n",
    "\n",
    "    Returns:\n",
    "        El enésimo número primo\n",
    "    \"\"\"\n",
    "\n",
    "#Iniciamos la variable \"primo\" en 2 ya que es el primer número primo que queremos que tenga en cuenta nuestra función.\n",
    "#Iniciamos el contador en 1 para poder saber cuantos números primos vamos enconttando\n",
    "    \n",
    "    primo = 2\n",
    "    contador = 1\n",
    "\n",
    "#Iniciamos un bucle con la función \"while\", el cual se ejecuta mientras el contador sea menor (<) que (n).\n",
    "#Hacemos que en cada iteración aumente en 1 el valor de la variable \"primo\" con el signo (+-). Asumimos que es primo hasta que se demuestre lo contrario.\n",
    "    \n",
    "    while contador < n:\n",
    "        primo += 1\n",
    "        numprimo = True\n",
    "\n",
    "# Solo probamos divisores hasta la raíz cuadrada de 'primo'. La razón para detenernos en la raíz cuadrada es que si un número 𝑛 tiene un divisor 𝑑 mayor que su raíz cuadrada, entonces también debe tener un divisor que sea menor o igual a su raíz cuadrada. \n",
    "        for i in range(2, int(math.sqrt(primo)) + 1):\n",
    "            if primo % i == 0:\n",
    "                numprimo = False\n",
    "               break  # Rompemos el bucle porque ya sabemos que no es primo\n",
    "\n",
    "        # Si el número sigue siendo primo (no fue divisible por ningún número), incrementamos el contador\n",
    "        if numprimo:\n",
    "            contador += 1  # Aumentamos el número de primos encontrados\n",
    "\n",
    "    return primo  # Retornamos el enésimo número primo encontrado\n",
    "                \n",
    "print(enesimoprimo(1000000))"
   ]
  },
  {
   "cell_type": "code",
   "execution_count": null,
   "id": "99e4b07b",
   "metadata": {},
   "outputs": [],
   "source": []
  }
 ],
 "metadata": {
  "kernelspec": {
   "display_name": "Python 3",
   "language": "python",
   "name": "python3"
  },
  "language_info": {
   "codemirror_mode": {
    "name": "ipython",
    "version": 3
   },
   "file_extension": ".py",
   "mimetype": "text/x-python",
   "name": "python",
   "nbconvert_exporter": "python",
   "pygments_lexer": "ipython3",
   "version": "3.12.6"
  }
 },
 "nbformat": 4,
 "nbformat_minor": 5
}
